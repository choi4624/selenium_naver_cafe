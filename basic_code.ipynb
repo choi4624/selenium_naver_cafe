{
 "cells": [
  {
   "cell_type": "code",
   "execution_count": 19,
   "id": "c35d3775",
   "metadata": {},
   "outputs": [
    {
     "name": "stderr",
     "output_type": "stream",
     "text": [
      "C:\\Users\\choi4\\AppData\\Roaming\\Python\\Python37\\site-packages\\ipykernel_launcher.py:13: DeprecationWarning: executable_path has been deprecated, please pass in a Service object\n",
      "  del sys.path[0]\n"
     ]
    }
   ],
   "source": [
    "from selenium import webdriver\n",
    "from selenium.webdriver.common.by import By\n",
    "from selenium.webdriver.common.keys import Keys\n",
    "import pyperclip\n",
    "import time\n",
    "\n",
    "\n",
    "## getting started \n",
    "\n",
    "\n"
   ]
  },
  {
   "cell_type": "code",
   "execution_count": null,
   "id": "cc8216c3",
   "metadata": {},
   "outputs": [],
   "source": [
    "## personal info\n",
    "chrome_driver_path = \"/chromedriver_win32\"\n",
    "naver_url = \n",
    "craw_url = \n",
    "naver_id = \n",
    "naver_pw = "
   ]
  },
  {
   "cell_type": "code",
   "execution_count": null,
   "id": "956decc8",
   "metadata": {},
   "outputs": [],
   "source": [
    "## 기본 로그인 basic login\n",
    "## cccv 로 안막히는 네이버님 감사합니다. \n",
    "\n",
    "driver = webdriver.Chrome(chrome_driver_path)\n",
    "driver.get(naver_url)\n",
    "\n",
    "\n",
    "login_button = driver.find_element(By.CSS_SELECTOR, \"#account > a\")\n",
    "login_button.click()\n",
    "\n",
    "input_id = driver.find_element(By.CSS_SELECTOR, \"#id\")\n",
    "input_pw = driver.find_element(By.CSS_SELECTOR, \"#pw\")\n",
    "\n",
    "##input_id.send_keys(naver_id)\n",
    "##input_pw.send_keys(naver_pw)\n",
    "\n",
    "input_id.click()\n",
    "pyperclip.copy(naver_id)\n",
    "input_id.send_keys(Keys.CONTROL, 'v')\n",
    "time.sleep(1)\n",
    "\n",
    "input_pw.click()\n",
    "pyperclip.copy(naver_pw)\n",
    "input_pw.send_keys(Keys.CONTROL, 'v')\n",
    "time.sleep(1)\n",
    "\n",
    "browser.execute_script(f\"document.getElementsByName('pw')[0].value='{naver_pw}'\")\n",
    "\n",
    "login_send = driver.find_element(By.CSS_SELECTOR, \"#log\\.login\")\n",
    "login_send.click()"
   ]
  },
  {
   "cell_type": "code",
   "execution_count": 38,
   "id": "9a35ed13",
   "metadata": {},
   "outputs": [],
   "source": [
    "## 게시판 접근 enter board \n",
    "\n",
    "driver.get(craw_url)\n",
    "view_btn = driver.find_element(By.CSS_SELECTOR,\"#menuLink385\")\n",
    "view_btn.click()"
   ]
  },
  {
   "cell_type": "code",
   "execution_count": 39,
   "id": "ef41847e",
   "metadata": {},
   "outputs": [
    {
     "ename": "TypeError",
     "evalue": "click() takes 1 positional argument but 2 were given",
     "output_type": "error",
     "traceback": [
      "\u001b[1;31m---------------------------------------------------------------------------\u001b[0m",
      "\u001b[1;31mTypeError\u001b[0m                                 Traceback (most recent call last)",
      "\u001b[1;32m~\\AppData\\Local\\Temp\\ipykernel_21888\\4227524093.py\u001b[0m in \u001b[0;36m<module>\u001b[1;34m\u001b[0m\n\u001b[0;32m     21\u001b[0m \u001b[1;33m\u001b[0m\u001b[0m\n\u001b[0;32m     22\u001b[0m \u001b[0mexcute\u001b[0m \u001b[1;33m=\u001b[0m \u001b[0mdriver\u001b[0m\u001b[1;33m.\u001b[0m\u001b[0mfind_element\u001b[0m\u001b[1;33m(\u001b[0m\u001b[0mBy\u001b[0m\u001b[1;33m.\u001b[0m\u001b[0mCSS_SELECTOR\u001b[0m\u001b[1;33m,\u001b[0m\u001b[0mexcute_btn\u001b[0m\u001b[1;33m)\u001b[0m\u001b[1;33m\u001b[0m\u001b[1;33m\u001b[0m\u001b[0m\n\u001b[1;32m---> 23\u001b[1;33m \u001b[0mexcute\u001b[0m\u001b[1;33m.\u001b[0m\u001b[0mclick\u001b[0m\u001b[1;33m(\u001b[0m\u001b[1;36m1\u001b[0m\u001b[1;33m)\u001b[0m\u001b[1;33m\u001b[0m\u001b[1;33m\u001b[0m\u001b[0m\n\u001b[0m\u001b[0;32m     24\u001b[0m \u001b[1;33m\u001b[0m\u001b[0m\n\u001b[0;32m     25\u001b[0m \u001b[1;33m\u001b[0m\u001b[0m\n",
      "\u001b[1;31mTypeError\u001b[0m: click() takes 1 positional argument but 2 were given"
     ]
    }
   ],
   "source": [
    "## 검색 search \n",
    "\n",
    "## 먼저, 네이버 카페의 경우 전체 페이지가 iframe 이므로, iframe > frame 으로 변환하여 내부 CSS 요소를 탐색 \n",
    "## first, in naver cafe case.entire pages is iframe, convert iframe > frame to find internel CSS elements \n",
    "\n",
    "search_blank = \"#query\"\n",
    "excute_btn = \"#main-area > div.list-search > form > div.input_search_area > button\"\n",
    "item_search = \"3060\"\n",
    "mode_sel = \"#searchOptionSelectDiv > a\"\n",
    "change_view = \"#searchOptionSelectDiv > ul > li:nth-child(1) > a\"\n",
    "\n",
    "i_search = driver.find_element(By.CSS_SELECTOR, \"#cafe_main\")\n",
    "\n",
    "driver.switch_to.frame(i_search)\n",
    "time.sleep(1)\n",
    "\n",
    "\n",
    "\n",
    "\n",
    "\n",
    "#topLayerQueryInput\n",
    "#main-area > div.list-search > form > div.input_search_area >\n",
    "#main-area > div.list-search > form > div.input_search_area > div > query"
   ]
  },
  {
   "cell_type": "code",
   "execution_count": 43,
   "id": "a367ba11",
   "metadata": {},
   "outputs": [],
   "source": [
    "## inline frame element click \n",
    "search = driver.find_element(By.CSS_SELECTOR,search_blank)\n",
    "time.sleep(1)\n",
    "\n",
    "search.click()\n",
    "pyperclip.copy(item_search)\n",
    "search.send_keys(Keys.CONTROL, 'v')\n",
    "time.sleep(1)\n",
    "\n",
    "excute = driver.find_element(By.CSS_SELECTOR,excute_btn)\n",
    "excute.click()"
   ]
  },
  {
   "cell_type": "code",
   "execution_count": null,
   "id": "29b48b80",
   "metadata": {},
   "outputs": [],
   "source": []
  }
 ],
 "metadata": {
  "kernelspec": {
   "display_name": "Python 3 (ipykernel)",
   "language": "python",
   "name": "python3"
  },
  "language_info": {
   "codemirror_mode": {
    "name": "ipython",
    "version": 3
   },
   "file_extension": ".py",
   "mimetype": "text/x-python",
   "name": "python",
   "nbconvert_exporter": "python",
   "pygments_lexer": "ipython3",
   "version": "3.7.9"
  }
 },
 "nbformat": 4,
 "nbformat_minor": 5
}
