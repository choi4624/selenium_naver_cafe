{
 "cells": [
  {
   "cell_type": "code",
   "execution_count": 1,
   "id": "d0c9d326",
   "metadata": {},
   "outputs": [],
   "source": [
    "from selenium import webdriver\n",
    "from selenium.webdriver.common.by import By\n",
    "from selenium.webdriver.common.keys import Keys\n",
    "import pyperclip\n",
    "import time\n",
    "\n",
    "\n",
    "## getting started \n",
    "\n",
    "\n"
   ]
  },
  {
   "cell_type": "code",
   "execution_count": 3,
   "id": "99a074df",
   "metadata": {},
   "outputs": [
    {
     "data": {
      "text/plain": [
       "'personal.py code look like this, fill the variable \\nchrome_driver_path = \"/chromedriver_win32\" \\nnaver_url = \\ncraw_url = \\nnaver_id = \\nnaver_pw = \\n'"
      ]
     },
     "execution_count": 3,
     "metadata": {},
     "output_type": "execute_result"
    }
   ],
   "source": [
    "## personal info\n",
    "\n",
    "from personal import chrome_driver_path, naver_url, craw_url, naver_id, naver_pw\n",
    "\n",
    "'''personal.py code look like this, fill the variable \n",
    "chrome_driver_path = \"/chromedriver_win32\" \n",
    "naver_url = \n",
    "craw_url = \n",
    "naver_id = \n",
    "naver_pw = \n",
    "'''\n"
   ]
  },
  {
   "cell_type": "code",
   "execution_count": 4,
   "id": "23d728d7",
   "metadata": {},
   "outputs": [
    {
     "name": "stderr",
     "output_type": "stream",
     "text": [
      "C:\\Users\\choi4\\AppData\\Local\\Temp\\ipykernel_18284\\4161735948.py:4: DeprecationWarning: executable_path has been deprecated, please pass in a Service object\n",
      "  driver = webdriver.Chrome(chrome_driver_path)\n"
     ]
    }
   ],
   "source": [
    "## 기본 로그인 basic login\n",
    "## cccv 로 안막히는 네이버님 감사합니다. \n",
    "\n",
    "driver = webdriver.Chrome(chrome_driver_path)\n",
    "driver.get(naver_url)\n",
    "\n",
    "\n",
    "login_button = driver.find_element(By.CSS_SELECTOR, \"#account > a\")\n",
    "login_button.click()\n",
    "\n",
    "input_id = driver.find_element(By.CSS_SELECTOR, \"#id\")\n",
    "input_pw = driver.find_element(By.CSS_SELECTOR, \"#pw\")\n",
    "\n",
    "##input_id.send_keys(naver_id)\n",
    "##input_pw.send_keys(naver_pw)\n",
    "\n",
    "input_id.click()\n",
    "pyperclip.copy(naver_id)\n",
    "input_id.send_keys(Keys.CONTROL, 'v')\n",
    "time.sleep(1)\n",
    "\n",
    "input_pw.click()\n",
    "pyperclip.copy(naver_pw)\n",
    "input_pw.send_keys(Keys.CONTROL, 'v')\n",
    "time.sleep(1)\n",
    "\n",
    "#browser.execute_script(f\"document.getElementsByName('pw')[0].value='{naver_pw}'\")\n",
    "## clipboard ctrl + v accident reduce \n",
    "pyperclip.copy(\"blank\")\n",
    "\n",
    "login_send = driver.find_element(By.CSS_SELECTOR, \"#log\\.login\")\n",
    "login_send.click()"
   ]
  },
  {
   "cell_type": "code",
   "execution_count": 5,
   "id": "fd7b8763",
   "metadata": {},
   "outputs": [],
   "source": [
    "## 게시판 접근 enter board \n",
    "\n",
    "driver.get(craw_url)\n",
    "view_btn = driver.find_element(By.CSS_SELECTOR,\"#menuLink385\")\n",
    "view_btn.click()"
   ]
  },
  {
   "cell_type": "code",
   "execution_count": 6,
   "id": "76feb772",
   "metadata": {},
   "outputs": [],
   "source": [
    "## 검색 search \n",
    "\n",
    "## 먼저, 네이버 카페의 경우 전체 페이지가 iframe 이므로, iframe > frame 으로 변환하여 내부 CSS 요소를 탐색 \n",
    "## first, in naver cafe case.entire pages is iframe, convert iframe > frame to find internel CSS elements \n",
    "\n",
    "search_blank = \"#query\"\n",
    "excute_btn = \"#main-area > div.list-search > form > div.input_search_area > button\"\n",
    "item_search = \"3080\"\n",
    "mode_sel = \"#searchOptionSelectDiv > a\"\n",
    "change_view = \"#searchOptionSelectDiv > ul > li:nth-child(1) > a\"\n",
    "\n",
    "## do not did twice (frame change)\n",
    "i_search = driver.find_element(By.CSS_SELECTOR, \"#cafe_main\")\n",
    "\n",
    "driver.switch_to.frame(i_search)\n",
    "time.sleep(1)\n",
    "\n",
    "\n",
    "\n",
    "\n",
    "\n",
    "#topLayerQueryInput\n",
    "#main-area > div.list-search > form > div.input_search_area >\n",
    "#main-area > div.list-search > form > div.input_search_area > div > query"
   ]
  },
  {
   "cell_type": "code",
   "execution_count": 7,
   "id": "a384cd39",
   "metadata": {},
   "outputs": [],
   "source": [
    "## inline frame element click \n",
    "search = driver.find_element(By.CSS_SELECTOR,search_blank)\n",
    "time.sleep(1)\n",
    "\n",
    "search.click()\n",
    "pyperclip.copy(item_search)\n",
    "search.send_keys(Keys.CONTROL, 'v')\n",
    "time.sleep(1)\n",
    "\n",
    "excute = driver.find_element(By.CSS_SELECTOR,excute_btn)\n",
    "excute.click()\n",
    "\n"
   ]
  },
  {
   "cell_type": "code",
   "execution_count": 8,
   "id": "3f2b4f53",
   "metadata": {},
   "outputs": [],
   "source": [
    "board_toggle = driver.find_element(By.CSS_SELECTOR, '#searchOptionSelectDiv > a')\n",
    "toggle_change = driver.find_element(By.CSS_SELECTOR,'#searchOptionSelectDiv > ul > li:nth-child(1) > a')\n",
    "\n",
    "board_toggle.click()\n",
    "toggle_change.click()\n"
   ]
  },
  {
   "cell_type": "code",
   "execution_count": null,
   "id": "467b2fcd",
   "metadata": {},
   "outputs": [],
   "source": [
    "import datetime\n",
    "from openpyxl import Workbook\n",
    "\n",
    "# 총 몇 페이지 자료를 모을지 선택\n",
    "total_page = 10\n",
    "\n",
    "# 페이지 개수 나누기\n",
    "total_next = total_page // 10\n",
    "last_page = total_page - total_next * 10\n",
    "\n",
    "thing = item_search\n",
    "\n",
    "# datetime\n",
    "now = datetime.datetime.now()\n",
    "today = now.strftime('%Y-%m-%d')\n",
    "\n",
    "# 엑셀\n",
    "wb = Workbook(write_only=True)\n",
    "ws = wb.create_sheet(today)\n",
    "ws.append(['작성날짜', '판매 상태', '제목', 'url', '가격', '내용'])"
   ]
  },
  {
   "cell_type": "code",
   "execution_count": null,
   "id": "9eb21c93",
   "metadata": {},
   "outputs": [],
   "source": [
    "## base code https://flight-developer-stroy.tistory.com/6 \n",
    "\n",
    "# 크롤링 함수 정의(만약 \"이전\" 버튼이 있으면 num은 1 아니면 0)\n",
    "def crolling(num):\n",
    "    # 게시글 들어가는 반복문\n",
    "    with_before = 0\n",
    "    for i in range(len(driver.find_elements(By.CSS_SELECTOR,'.article'))):\n",
    "\n",
    "        # 게시글 들어가기\n",
    "        articles = driver.find_elements(By.CSS_SELECTOR,'a.article')[i]\n",
    "        articles.click()\n",
    "        time.sleep(1)\n",
    "\n",
    "\n",
    "        # 정보추출\n",
    "        write_date = driver.find_element(By.CSS_SELECTOR,'span.date').text\n",
    "        product_title = driver.find_element(By.CSS_SELECTOR,'h3.title_text').text\n",
    "        url = driver.find_element(By.CSS_SELECTOR,'.button_url').get_attribute('href')\n",
    "        text_data = driver.find_element(By.CSS_SELECTOR,'#app > div > div > div.ArticleContentBox > div.article_container > div.article_viewer > div:nth-child(3) > div.content.CafeViewer > div > div').text\n",
    "        # 가격을 못찾으면 그냥 빈칸 입력\n",
    "        try:\n",
    "            # 가격 문자열을 숫자로 바꾸기\n",
    "            product_price_str = driver.find_element(By.CSS_SELECTOR,'.ProductPrice').text\n",
    "            price_no_won = product_price_str[:-1]\n",
    "            price_no_won_shim = price_no_won.replace(',', '')\n",
    "            product_price = int(price_no_won_shim)\n",
    "        except:\n",
    "            # 제목에서 가격 문자열 추출\n",
    "            try:\n",
    "                product_title = product_title.replace('[', '')\n",
    "                product_title = product_title.replace(']', '&')\n",
    "                product_price_str = product_title.split('&')[-2]\n",
    "\n",
    "                # 가격 문자열을 숫자로 바꾸기\n",
    "                price_no_won = product_price_str[:-1]\n",
    "                price_no_won_shim = price_no_won.replace(',', '')\n",
    "                product_price = int(price_no_won_shim)\n",
    "            except:\n",
    "                product_price = ''\n",
    "        # 판매 상태 정보 저장\n",
    "        try:\n",
    "            status = driver.find_element(By.CSS_SELECTOR,'.SaleLabel').text\n",
    "        except:\n",
    "            status = \"\"\n",
    "\n",
    "        # 엑셀에 작성\n",
    "        ws.append([write_date, status, product_title, url, product_price, text_data])\n",
    "\n",
    "        # 뒤로가기\n",
    "        driver.back()\n",
    "        driver.switch_to.frame('cafe_main')\n",
    "\n",
    "    # 다음 게시글 page 이동\n",
    "    pages = driver.find_elements(By.CSS_SELECTOR,'.prev-next a')[page + 1 + num]\n",
    "    pages.click()"
   ]
  },
  {
   "cell_type": "code",
   "execution_count": null,
   "id": "cdb5f105",
   "metadata": {
    "scrolled": true
   },
   "outputs": [],
   "source": [
    "\n",
    "\n",
    "\n",
    "\n",
    "for i in range(total_next):\n",
    "    # 마지막 10단위 페이지일 때\n",
    "    if i == 0:\n",
    "        # 다음페이지 클릭 반복문\n",
    "        for page in range(10):\n",
    "            crolling(0)\n",
    "    elif i > 0 and i != total_next-1:\n",
    "        for page in range(10):\n",
    "            crolling(1)\n",
    "    elif i == total_next-1:\n",
    "        for page in range(last_page):\n",
    "            crolling(1)\n",
    "\n",
    "\n",
    "# selenium 끝내고 엑셀 파일 저장\n",
    "# driver.quit() > 끄지마\n",
    "wb.save(f'중고나라 {today}{thing} 매물.xlsx')\n"
   ]
  },
  {
   "cell_type": "code",
   "execution_count": null,
   "id": "8f13a6e6",
   "metadata": {},
   "outputs": [],
   "source": [
    "write_date = driver.find_element(By.CSS_SELECTOR,'span.date').text\n",
    "    \n",
    "print(write_date)\n",
    "    "
   ]
  },
  {
   "cell_type": "code",
   "execution_count": null,
   "id": "2ec4cd9e",
   "metadata": {},
   "outputs": [],
   "source": [
    "text_data = driver.find_element(By.CSS_SELECTOR,'#app > div > div > div.ArticleContentBox > div.article_container > div.article_viewer > div:nth-child(3) > div.content.CafeViewer > div > div').text\n",
    "print(text_data)"
   ]
  },
  {
   "cell_type": "code",
   "execution_count": null,
   "id": "e9f9544a",
   "metadata": {},
   "outputs": [],
   "source": []
  }
 ],
 "metadata": {
  "kernelspec": {
   "display_name": "Python 3",
   "language": "python",
   "name": "python3"
  },
  "language_info": {
   "codemirror_mode": {
    "name": "ipython",
    "version": 3
   },
   "file_extension": ".py",
   "mimetype": "text/x-python",
   "name": "python",
   "nbconvert_exporter": "python",
   "pygments_lexer": "ipython3",
   "version": "3.10.9"
  },
  "vscode": {
   "interpreter": {
    "hash": "c2f17dbbec40f7ce688426a676ecf28c15be4b6328ad1b5eb9c4e526acfbc88e"
   }
  }
 },
 "nbformat": 4,
 "nbformat_minor": 5
}
